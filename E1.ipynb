{
  "nbformat": 4,
  "nbformat_minor": 0,
  "metadata": {
    "colab": {
      "provenance": [],
      "authorship_tag": "ABX9TyPilkx0hlOCdKOsq8YH42Ou",
      "include_colab_link": true
    },
    "kernelspec": {
      "name": "python3",
      "display_name": "Python 3"
    },
    "language_info": {
      "name": "python"
    }
  },
  "cells": [
    {
      "cell_type": "markdown",
      "metadata": {
        "id": "view-in-github",
        "colab_type": "text"
      },
      "source": [
        "<a href=\"https://colab.research.google.com/github/lcsl88/RedesP2P/blob/main/E1.ipynb\" target=\"_parent\"><img src=\"https://colab.research.google.com/assets/colab-badge.svg\" alt=\"Open In Colab\"/></a>"
      ]
    },
    {
      "cell_type": "code",
      "execution_count": 3,
      "metadata": {
        "colab": {
          "base_uri": "https://localhost:8080/"
        },
        "id": "SP_L-WhrLgzD",
        "outputId": "9794ec66-8d14-4130-a39f-4043eca34770"
      },
      "outputs": [
        {
          "output_type": "stream",
          "name": "stdout",
          "text": [
            "Drive already mounted at /content/drive; to attempt to forcibly remount, call drive.mount(\"/content/drive\", force_remount=True).\n",
            "BLAKE2b: 8591f2950658cc0f790edb779bba9202835032572532456e32efd5ce894e044d37579e907f2e6c5bb87b287084ad7f100f0b940a71271c35acb2d3146799b025\n"
          ]
        }
      ],
      "source": [
        "from google.colab import drive\n",
        "drive.mount('/content/drive')\n",
        "\n",
        "import hashlib\n",
        "import sys\n",
        "\n",
        "def read_file(file):\n",
        "    \n",
        "    BUFFER_SIZE = 16384 \n",
        "    b = b\"\"\n",
        "    with open(file, \"rb\") as f:\n",
        "        while True:\n",
        "            \n",
        "            bytes_read = f.read(BUFFER_SIZE)\n",
        "            if bytes_read:\n",
        "                \n",
        "                b += bytes_read\n",
        "            else:\n",
        "                \n",
        "                break\n",
        "    return b\n",
        "\n",
        "if __name__ == \"__main__\":\n",
        "     \n",
        "    file_content = read_file('/content/drive/MyDrive/Colab Notebooks/RedesP2P/bible.txt')\n",
        "    # Origem do arquivo da biblia em txt: https://github.com/mxw/grmr/blob/master/src/finaltests/bible.txt\n",
        "    # 512-bit BLAKE2b\n",
        "    print(\"BLAKE2b:\", hashlib.blake2b(file_content).hexdigest())"
      ]
    }
  ]
}